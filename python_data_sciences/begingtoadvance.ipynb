{
  "nbformat": 4,
  "nbformat_minor": 0,
  "metadata": {
    "colab": {
      "provenance": [],
      "authorship_tag": "ABX9TyNnmhGA0hdfavfsGkAz2t+A",
      "include_colab_link": true
    },
    "kernelspec": {
      "name": "python3",
      "display_name": "Python 3"
    },
    "language_info": {
      "name": "python"
    }
  },
  "cells": [
    {
      "cell_type": "markdown",
      "metadata": {
        "id": "view-in-github",
        "colab_type": "text"
      },
      "source": [
        "<a href=\"https://colab.research.google.com/github/ylamkhan/A.-Amusing-Joke/blob/main/python_data_sciences/begingtoadvance.ipynb\" target=\"_parent\"><img src=\"https://colab.research.google.com/assets/colab-badge.svg\" alt=\"Open In Colab\"/></a>"
      ]
    },
    {
      "cell_type": "markdown",
      "source": [
        "Python Data Type: String - Exercises, Practice, Solution"
      ],
      "metadata": {
        "id": "_Hk2t4cXX9GX"
      }
    },
    {
      "cell_type": "code",
      "source": [
        "#1. Calculate string length.\n",
        "\n",
        "def length_string(s):\n",
        "  return len(s)\n",
        "print(length_string(\"hello\"))\n",
        "\n",
        "# 2:Method\n",
        "\n",
        "def mylen(s):\n",
        "  if not s:\n",
        "    return None\n",
        "  for i,c in enumerate(s):\n",
        "    pass\n",
        "  return i + 1\n",
        "\n",
        "print(mylen(\"hello\"))"
      ],
      "metadata": {
        "colab": {
          "base_uri": "https://localhost:8080/"
        },
        "id": "S6d8inpSX75P",
        "outputId": "8456e21b-b498-45a4-889f-f6116889e996"
      },
      "execution_count": null,
      "outputs": [
        {
          "output_type": "stream",
          "name": "stdout",
          "text": [
            "5\n",
            "5\n"
          ]
        }
      ]
    },
    {
      "cell_type": "code",
      "source": [
        "#2. Count character frequency in a string.\n",
        "\n",
        "\n",
        "# this complixite time is O(n)\n",
        "\n",
        "\n",
        "def count_character_string(s):\n",
        "  if not s:\n",
        "    return None\n",
        "  dic = {}\n",
        "  for c in s:\n",
        "    if c in dic:\n",
        "      dic[c] += 1\n",
        "    else:\n",
        "      dic[c] = 1\n",
        "  return dic\n",
        "\n",
        "print(count_character_string(\"\"))\n",
        "print(count_character_string(\"h\"))\n",
        "print(count_character_string(None))\n",
        "print(count_character_string(\"heiiiillloo\"))\n",
        "\n",
        "\n",
        "# this complixite time is O(n*n)\n",
        "\n",
        "def count_character_str(s):\n",
        "  if not s:\n",
        "    return None\n",
        "\n",
        "  i = 0\n",
        "  last = \"\"\n",
        "  dic = {}\n",
        "  while i < len(s):\n",
        "    if s[i] in last:\n",
        "      i += 1\n",
        "      continue\n",
        "    count = 1\n",
        "    j = i+1\n",
        "    while j < len(s):\n",
        "      if s[i] == s[j]:\n",
        "        count += 1\n",
        "      j += 1\n",
        "    last += s[i]\n",
        "    dic[s[i]] = count\n",
        "    i += 1\n",
        "  return dic\n",
        "\n",
        "print(count_character_str(\"\"))\n",
        "print(count_character_str(\"h\"))\n",
        "print(count_character_str(\"hhhhh\"))\n",
        "print(count_character_str(\"hellllo\"))\n",
        "print(count_character_str(None))\n",
        "\n",
        "\n"
      ],
      "metadata": {
        "colab": {
          "base_uri": "https://localhost:8080/"
        },
        "id": "Hxj_LwFsY8Lk",
        "outputId": "71f91875-931b-4f31-96c3-6cee39bdf4ef"
      },
      "execution_count": null,
      "outputs": [
        {
          "output_type": "stream",
          "name": "stdout",
          "text": [
            "None\n",
            "{'h': 1}\n",
            "{'h': 5}\n",
            "{'h': 1, 'e': 1, 'l': 4, 'o': 1}\n",
            "None\n"
          ]
        }
      ]
    },
    {
      "cell_type": "code",
      "source": [
        "#3. Get string of first and last 2 chars.\n",
        "\n",
        "def get_tow_first_and_end(s):\n",
        "  if not s or len(s) < 2:\n",
        "    return None\n",
        "  return s[0:2]+ s[-2] + s[-1]\n",
        "print(get_tow_first_and_end(\"\"))\n",
        "print(get_tow_first_and_end(None))\n",
        "print(get_tow_first_and_end(\"h\"))\n",
        "print(get_tow_first_and_end(\"he\"))\n",
        "print(get_tow_first_and_end(\"hhhhaaaahhahha\"))\n"
      ],
      "metadata": {
        "colab": {
          "base_uri": "https://localhost:8080/"
        },
        "id": "-dI6fFC4drNr",
        "outputId": "bfc251eb-5293-4e40-eec0-af33a3e9576b"
      },
      "execution_count": null,
      "outputs": [
        {
          "output_type": "stream",
          "name": "stdout",
          "text": [
            "None\n",
            "None\n",
            "None\n",
            "hehe\n",
            "hhha\n"
          ]
        }
      ]
    },
    {
      "cell_type": "code",
      "source": [
        "#4. Replace first char occurrences with $.\n",
        "\n",
        "def replase_first_accurrences_with(s):\n",
        "  if not s or len(s) < 2:\n",
        "    return None\n",
        "\n",
        "  pos = s[1:].find(s[0])\n",
        "  if pos == 0:\n",
        "    return  s[0] + \"$\" + s[2:]\n",
        "  if pos > 0:\n",
        "    return s[0:pos+1] + \"$\" + s[pos+2:]\n",
        "  else:\n",
        "    return s\n",
        "\n",
        "print(replase_first_accurrences_with(\"r\"))\n",
        "print(replase_first_accurrences_with(\"ra\"))\n",
        "print(replase_first_accurrences_with(\"\"))\n",
        "print(replase_first_accurrences_with(\" \"))\n",
        "print(replase_first_accurrences_with(\"      \"))\n",
        "print(replase_first_accurrences_with(\"$dddd$\"))\n"
      ],
      "metadata": {
        "colab": {
          "base_uri": "https://localhost:8080/"
        },
        "id": "y_2VA8p0b3N1",
        "outputId": "b2ed5c75-b4c4-435c-b6a5-7952f6f69346"
      },
      "execution_count": null,
      "outputs": [
        {
          "output_type": "stream",
          "name": "stdout",
          "text": [
            "None\n",
            "ra\n",
            "None\n",
            "None\n",
            " $    \n",
            "$dddd$\n"
          ]
        }
      ]
    },
    {
      "cell_type": "code",
      "source": [
        "#5. Swap first 2 chars of 2 strings.\n",
        "\n",
        "def Swap_first_two_chars_in_two_string(s1,s2):\n",
        "  if not s1 or not s2:\n",
        "    return None\n",
        "  if len(s1) < 2 or len(s2) < 2:\n",
        "    return s1,s2\n",
        "  t = s1[0:2]\n",
        "  s1 = s2[0:2] + s1[2:]\n",
        "  s2 = t + s2[2:]\n",
        "  return s1, s2\n",
        "\n",
        "print(Swap_first_two_chars_in_two_string(\"\",\"\"))\n",
        "print(Swap_first_two_chars_in_two_string(None,None))\n",
        "print(Swap_first_two_chars_in_two_string(\"a\",\"a\"))\n",
        "print(Swap_first_two_chars_in_two_string(\"ab\",\"dc\"))\n",
        "print(Swap_first_two_chars_in_two_string(\"abccc\",\"bbccc\"))"
      ],
      "metadata": {
        "colab": {
          "base_uri": "https://localhost:8080/"
        },
        "id": "FGXGBNSSkDso",
        "outputId": "6fbbc3b4-22e2-4f06-829b-24be0cd0b5a5"
      },
      "execution_count": null,
      "outputs": [
        {
          "output_type": "stream",
          "name": "stdout",
          "text": [
            "None\n",
            "None\n",
            "('a', 'a')\n",
            "('dc', 'ab')\n",
            "('bbccc', 'abccc')\n"
          ]
        }
      ]
    },
    {
      "cell_type": "code",
      "execution_count": null,
      "metadata": {
        "colab": {
          "base_uri": "https://localhost:8080/"
        },
        "id": "14p3IGTnCGp7",
        "outputId": "95afb750-c88f-4466-b38e-bda22a9f61bd"
      },
      "outputs": [
        {
          "output_type": "stream",
          "name": "stdout",
          "text": [
            "helloing\n",
            "inghelloing\n",
            "startingly\n",
            "hellolying\n"
          ]
        }
      ],
      "source": [
        "\n",
        "# 6. Add ing or ly to a string.\n",
        "\n",
        "\n",
        "def add_ing_or_ly(s):\n",
        "  if len(s)<2:\n",
        "    return None\n",
        "  ing = s.find(\"ing\")\n",
        "  if ing > 0  and ing + 3 == len(s):\n",
        "    return s+\"ly\"\n",
        "  else:\n",
        "    return s + \"ing\"\n",
        "print(add_ing_or_ly(\"hello\"))\n",
        "print(add_ing_or_ly(\"inghello\"))\n",
        "print(add_ing_or_ly(\"starting\"))\n",
        "print(add_ing_or_ly(\"helloly\"))"
      ]
    },
    {
      "cell_type": "code",
      "source": [
        "# 7. Replace 'not'...'poor' with 'good'.\n",
        "\n",
        "def replace_not_poor_with_good(s):\n",
        "  if not s:\n",
        "    return None\n",
        "  snot = s.find(\"not\")\n",
        "  spoor = s.find(\"poor\")\n",
        "\n",
        "  if snot > 0 and spoor > 0 and spoor > snot:\n",
        "    return s[0:snot] + \"good\" + s[spoor+4:]\n",
        "  else:\n",
        "    return s\n",
        "\n",
        "\n",
        "print(replace_not_poor_with_good(\"The lyrics is not that poor!jfjjfjf\"))\n",
        "print(replace_not_poor_with_good(\"The lyrics is not that poo\"))\n",
        "print(replace_not_poor_with_good(\"The lyrics is  that poor!\"))\n",
        "print(replace_not_poor_with_good(\"The lyrics is not that poor!\"))"
      ],
      "metadata": {
        "colab": {
          "base_uri": "https://localhost:8080/"
        },
        "id": "QKDVS2DFlbfV",
        "outputId": "bc71a121-7f5b-4828-c771-88fd6a43876f"
      },
      "execution_count": null,
      "outputs": [
        {
          "output_type": "stream",
          "name": "stdout",
          "text": [
            "The lyrics is good!jfjjfjf\n",
            "The lyrics is not that poo\n",
            "The lyrics is  that poor!\n",
            "The lyrics is good!\n"
          ]
        }
      ]
    },
    {
      "cell_type": "code",
      "source": [
        "# 8. Find longest word in a list.\n",
        "\n",
        "\n",
        "def find_longest(l:list):\n",
        "  if not l:\n",
        "    return None\n",
        "  max = 0\n",
        "  word = \"\"\n",
        "  for i in l:\n",
        "    if len(i) > max:\n",
        "      max = len(i)\n",
        "      word = i\n",
        "  return max,word\n",
        "\n",
        "print(find_longest([\"abb\",\"bbbbbbbbb\",\"ggggggggg\",\"\",\"yyyyyyyyyyyyyyyyyyy\"]))"
      ],
      "metadata": {
        "colab": {
          "base_uri": "https://localhost:8080/"
        },
        "id": "RRG7Ioj-nMTB",
        "outputId": "0a8b79ed-ac94-4583-9767-c49310f0b4d7"
      },
      "execution_count": null,
      "outputs": [
        {
          "output_type": "stream",
          "name": "stdout",
          "text": [
            "(19, 'yyyyyyyyyyyyyyyyyyy')\n"
          ]
        }
      ]
    },
    {
      "cell_type": "code",
      "source": [
        "# 9. Remove nth character from a string.\n",
        "\n",
        "\n",
        "def remove_n_th(s):\n",
        "  if not s:\n",
        "    return None\n",
        "  return s[0:-1]\n",
        "print(remove_n_th(\"hhhhha\"))"
      ],
      "metadata": {
        "colab": {
          "base_uri": "https://localhost:8080/"
        },
        "id": "rocELgKSowtu",
        "outputId": "7611e43b-c2d7-4637-ee47-8dd6b0ec8e33"
      },
      "execution_count": null,
      "outputs": [
        {
          "output_type": "stream",
          "name": "stdout",
          "text": [
            "hhhhh\n"
          ]
        }
      ]
    },
    {
      "cell_type": "code",
      "source": [
        "#10.Swap first and last chars of a string.\n",
        "\n",
        "def change_first_end_string(s):\n",
        "  if not s:\n",
        "    return None\n",
        "  if len(s) < 2:\n",
        "    return s\n",
        "  return s[-1] + s[1:-1] + s[0]\n",
        "print(change_first_end_string(\"xaaaaay\"))"
      ],
      "metadata": {
        "colab": {
          "base_uri": "https://localhost:8080/"
        },
        "id": "RqAfn-JcUuf0",
        "outputId": "1f3f2ef0-9fae-4073-b0c9-dce772852d60"
      },
      "execution_count": null,
      "outputs": [
        {
          "output_type": "stream",
          "name": "stdout",
          "text": [
            "yaaaaax\n"
          ]
        }
      ]
    },
    {
      "cell_type": "code",
      "source": [
        "#11. Remove odd index chars from a string.\n",
        "\n",
        "# first way:\n",
        "#the way is comlxite times is O(n)\n",
        "def remove_odd_indesx(s):\n",
        "  if not s:\n",
        "    return None\n",
        "\n",
        "  result = \"\"\n",
        "  for i , c in enumerate(s):\n",
        "    if i%2 == 0:\n",
        "      result += c\n",
        "  return result\n",
        "\n",
        "\n",
        "print(remove_odd_indesx(\"gagagagagaga\"))\n",
        "\n",
        "def remove_odd(s):\n",
        "  if not s:\n",
        "    return None\n",
        "  return \"\".join([valus for i, valus in enumerate(s) if i % 2 == 0 ])\n",
        "print(remove_odd(\"\"))\n",
        "print(remove_odd(\"a\"))\n",
        "print(remove_odd(\"ab\"))\n",
        "print(remove_odd(\"ababababa\"))\n",
        "\n",
        "\n",
        "\n"
      ],
      "metadata": {
        "colab": {
          "base_uri": "https://localhost:8080/"
        },
        "id": "ecy8tTqZXzSI",
        "outputId": "9f91eb5b-0bb2-4896-b04f-493557b05cce"
      },
      "execution_count": null,
      "outputs": [
        {
          "output_type": "stream",
          "name": "stdout",
          "text": [
            "None\n",
            "a\n",
            "a\n",
            "aaaaa\n"
          ]
        }
      ]
    },
    {
      "cell_type": "code",
      "source": [
        "# 12. Count word occurrences in a sentence.\n",
        "\n",
        "def count_word_occ_in_sentence(s):\n",
        "  if not s:\n",
        "    return None\n",
        "  l = s.split()\n",
        "\n",
        "  dic = {}\n",
        "  for i in l:\n",
        "    if i in dic:\n",
        "      dic[i] += 1\n",
        "    else:\n",
        "      dic[i] = 1\n",
        "  return dic\n",
        "print(count_word_occ_in_sentence(\"the acc the way a a a a an am am an\"))"
      ],
      "metadata": {
        "colab": {
          "base_uri": "https://localhost:8080/"
        },
        "id": "uiRolrYwsM5p",
        "outputId": "1da1032f-a8af-49b7-cce0-19ccb54d4939"
      },
      "execution_count": null,
      "outputs": [
        {
          "output_type": "stream",
          "name": "stdout",
          "text": [
            "{'the': 2, 'acc': 1, 'way': 1, 'a': 4, 'an': 2, 'am': 2}\n"
          ]
        }
      ]
    },
    {
      "cell_type": "code",
      "source": [
        "# 13. Display input in upper and lower case.\n",
        "\n",
        "\n",
        "\n",
        "def Display_upper_lower(s):\n",
        "  return s.upper(),s.lower()\n",
        "\n",
        "print(Display_upper_lower(input()))"
      ],
      "metadata": {
        "colab": {
          "base_uri": "https://localhost:8080/"
        },
        "id": "Tntp8b1gtBr6",
        "outputId": "0263bd28-6492-47a8-fe57-54d5fad62c5b"
      },
      "execution_count": null,
      "outputs": [
        {
          "output_type": "stream",
          "name": "stdout",
          "text": [
            "HeLLLoo\n",
            "('HELLLOO', 'hellloo')\n"
          ]
        }
      ]
    },
    {
      "cell_type": "code",
      "source": [
        "# 14. Sort distinct words in comma-separated input.\n",
        "\n",
        "\n",
        "def Sorst_words(s):\n",
        "  if not s:\n",
        "    return None\n",
        "  l = s.split(',')\n",
        "  return \",\".join(sorted(l))\n",
        "print(Sorst_words(\"red,black,white,green,red\"))"
      ],
      "metadata": {
        "colab": {
          "base_uri": "https://localhost:8080/"
        },
        "id": "jh9sUWx_xF6L",
        "outputId": "173b5298-8794-48eb-97fc-244ff50c057e"
      },
      "execution_count": null,
      "outputs": [
        {
          "output_type": "stream",
          "name": "stdout",
          "text": [
            "black,green,red,red,white\n"
          ]
        }
      ]
    },
    {
      "cell_type": "code",
      "source": [
        "# 15. Wrap word(s) in HTML tags.\n",
        "\n",
        "def add_tags(tag,words):\n",
        "  if not tag:\n",
        "    return None\n",
        "  return \"<\"+tag+\"> \" + words + \" </\" +tag+ \">\"\n",
        "\n",
        "print(add_tags(\"a\",\"hhelow\"))\n"
      ],
      "metadata": {
        "colab": {
          "base_uri": "https://localhost:8080/"
        },
        "id": "rxOtHGfxybcA",
        "outputId": "8235e40a-1ccf-4e66-aea9-810b2bbab33d"
      },
      "execution_count": null,
      "outputs": [
        {
          "output_type": "stream",
          "name": "stdout",
          "text": [
            "<a> hhelow </a>\n"
          ]
        }
      ]
    },
    {
      "cell_type": "code",
      "source": [
        "# 16. Insert string into middle of another.\n",
        "\n",
        "\n"
      ],
      "metadata": {
        "id": "VMcVCBABzL8T"
      },
      "execution_count": null,
      "outputs": []
    }
  ]
}